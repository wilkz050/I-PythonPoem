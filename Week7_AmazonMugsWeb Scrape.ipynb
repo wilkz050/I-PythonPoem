{
 "cells": [
  {
   "cell_type": "code",
   "execution_count": 22,
   "id": "0927cd9a",
   "metadata": {},
   "outputs": [
    {
     "name": "stdout",
     "output_type": "stream",
     "text": [
      "Requirement already satisfied: beautifulsoup4 in /Users/Zoe/opt/anaconda3/lib/python3.9/site-packages (4.11.1)\n",
      "Requirement already satisfied: soupsieve>1.2 in /Users/Zoe/opt/anaconda3/lib/python3.9/site-packages (from beautifulsoup4) (2.3.1)\n",
      "\u001b[33mWARNING: Error parsing requirements for argon2-cffi-bindings: [Errno 2] No such file or directory: '/Users/Zoe/opt/anaconda3/lib/python3.9/site-packages/argon2_cffi_bindings-21.2.0.dist-info/METADATA'\u001b[0m\u001b[33m\n",
      "\u001b[0mNote: you may need to restart the kernel to use updated packages.\n"
     ]
    }
   ],
   "source": [
    "pip install beautifulsoup4"
   ]
  },
  {
   "cell_type": "code",
   "execution_count": 23,
   "id": "5ada11b3",
   "metadata": {},
   "outputs": [],
   "source": [
    "import bs4\n",
    "import urllib.request\n",
    "from urllib.request import urlopen\n",
    "from bs4 import BeautifulSoup\n"
   ]
  },
  {
   "cell_type": "code",
   "execution_count": 24,
   "id": "73738a7e",
   "metadata": {},
   "outputs": [
    {
     "name": "stdout",
     "output_type": "stream",
     "text": [
      "Requirement already satisfied: bs4 in /Users/Zoe/opt/anaconda3/lib/python3.9/site-packages (0.0.1)\n",
      "Requirement already satisfied: beautifulsoup4 in /Users/Zoe/opt/anaconda3/lib/python3.9/site-packages (from bs4) (4.11.1)\n",
      "Requirement already satisfied: soupsieve>1.2 in /Users/Zoe/opt/anaconda3/lib/python3.9/site-packages (from beautifulsoup4->bs4) (2.3.1)\n",
      "\u001b[33mWARNING: Error parsing requirements for argon2-cffi-bindings: [Errno 2] No such file or directory: '/Users/Zoe/opt/anaconda3/lib/python3.9/site-packages/argon2_cffi_bindings-21.2.0.dist-info/METADATA'\u001b[0m\u001b[33m\n",
      "\u001b[0mNote: you may need to restart the kernel to use updated packages.\n"
     ]
    }
   ],
   "source": [
    "pip install bs4"
   ]
  },
  {
   "cell_type": "code",
   "execution_count": null,
   "id": "c1a0e0ce",
   "metadata": {},
   "outputs": [],
   "source": [
    "url='https://www.amazon.com/s?k=mugs&crid=22SGHCP2LS0V3&sprefix=mugs%2Caps%2C128&ref=nb_sb_noss_1'\n",
    "page=urllib.request.urlopen(url)\n",
    "page_soup=BeautifulSoup(page, 'html.parser')\n",
    "img_items=page_soup.find('div',{'class':'-link-normal s-no-outline'})\n",
    "img_div=img_items.find_all(class='class='s-widget-container')\n",
    "                           \n",
    "for img in img_div\n",
    "    img_name=img.find('img')\n",
    "    img_src=img_name.get('src')                       \n",
    "    print(img_src)"
   ]
  },
  {
   "cell_type": "code",
   "execution_count": null,
   "id": "ec96ea47",
   "metadata": {},
   "outputs": [],
   "source": [
    "print(page_soup)"
   ]
  }
 ],
 "metadata": {
  "kernelspec": {
   "display_name": "Python 3 (ipykernel)",
   "language": "python",
   "name": "python3"
  },
  "language_info": {
   "codemirror_mode": {
    "name": "ipython",
    "version": 3
   },
   "file_extension": ".py",
   "mimetype": "text/x-python",
   "name": "python",
   "nbconvert_exporter": "python",
   "pygments_lexer": "ipython3",
   "version": "3.9.13"
  }
 },
 "nbformat": 4,
 "nbformat_minor": 5
}
